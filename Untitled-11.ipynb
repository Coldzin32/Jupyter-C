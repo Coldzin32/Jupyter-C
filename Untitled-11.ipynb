{
 "cells": [
  {
   "cell_type": "code",
   "execution_count": null,
   "metadata": {},
   "outputs": [],
   "source": [
    "def soma(n1, n2):\n",
    "    return n1+n2\n",
    "\n",
    "def subtrai(n1, n2):\n",
    "    return n1-n2\n",
    "\n",
    "def multiplica(n1, n2):\n",
    "    return n1*n2\n",
    "\n",
    "def divide(n1, n2):\n",
    "    return n1/n2"
   ]
  },
  {
   "cell_type": "code",
   "execution_count": null,
   "metadata": {},
   "outputs": [],
   "source": [
    "while True:\n",
    "    print(\"+==================+\")\n",
    "    print(\"| MENU DE OPERAÇÕES\")\n",
    "    print(\"|  1 - somar       \")\n",
    "    print(\"|  2 - subtrair    \")\n",
    "    print(\"|  3 - multiplicar \")\n",
    "    print(\"|  4 - dividir     \")\n",
    "    print(\"|  0 - sair        \")\n",
    "    print(\"+==================+\")\n",
    "\n",
    "    op = int(input())\n",
    "    if op==0:\n",
    "        break\n",
    "    \n",
    "    n1 = int(input(\"Primeiro número: \"))\n",
    "    n2 = int(input(\"Segundo número é: \"))\n",
    "\n",
    "    if op==1:\n",
    "        print(\"O resultado da soma é: \", soma(n1,n2))\n",
    "    elif op==2:\n",
    "        print(\"O resultado da subtração é: \", subtrai(n1,n2)) \n",
    "    elif op==3:\n",
    "        print(\"O resultado da multiplicação é: \", multiplica(n1,n2))\n",
    "    elif op==4:\n",
    "        print(\"O resultado da divisão é: \", divide(n1,n2))"
   ]
  }
 ],
 "metadata": {
  "language_info": {
   "name": "python"
  }
 },
 "nbformat": 4,
 "nbformat_minor": 2
}
