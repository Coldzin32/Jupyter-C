{
 "cells": [
  {
   "cell_type": "code",
   "execution_count": null,
   "metadata": {},
   "outputs": [],
   "source": [
    "\n",
    "for patinhos in [5 ,4 ,3 ,2, 1]: \n",
    "  if patinhos !=1:\n",
    "   print(patinhos, \"patinhos foram passear, além da montanha para brincar\", \"a mamãe gritou qua qua qua\", \"mas só\",patinhos-1, \"voltaram de lá\" )\n",
    " \n"
   ]
  },
  {
   "cell_type": "code",
   "execution_count": null,
   "metadata": {},
   "outputs": [],
   "source": [
    "n= int(input(\"Digite um numero\"))\n",
    "for num in [1,2,3,4,5,6,7,8,9,10]:\n",
    "    print(\"Essa é a tabuada do seu numero:\",n,\"x\",num,\"=\", n*num)"
   ]
  }
 ],
 "metadata": {
  "kernelspec": {
   "display_name": "Python 3",
   "language": "python",
   "name": "python3"
  },
  "language_info": {
   "codemirror_mode": {
    "name": "ipython",
    "version": 3
   },
   "file_extension": ".py",
   "mimetype": "text/x-python",
   "name": "python",
   "nbconvert_exporter": "python",
   "pygments_lexer": "ipython3",
   "version": "3.12.3"
  }
 },
 "nbformat": 4,
 "nbformat_minor": 2
}
