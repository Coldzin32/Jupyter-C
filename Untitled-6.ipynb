{
 "cells": [
  {
   "cell_type": "code",
   "execution_count": 3,
   "metadata": {},
   "outputs": [
    {
     "name": "stdout",
     "output_type": "stream",
     "text": [
      "[99, 92.3, 'oi', True, 4, 76, 76, 92.3, 'oi', 'Cibele', 4, 76, 'pitomba', 76]\n",
      "True\n"
     ]
    }
   ],
   "source": [
    "minhaLista=[76,92.3,'oi',True,4,76]\n",
    "minhaLista1=['pitomba',76]\n",
    "minhaLista2= minhaLista + minhaLista1\n",
    "minhaLista2[3]= 'Cibele'\n",
    "minhaLista[0]=99\n",
    "Listafinal= minhaLista + minhaLista2\n",
    "print(Listafinal)\n",
    "print(Listafinal[3])"
   ]
  }
 ],
 "metadata": {
  "kernelspec": {
   "display_name": "Python 3",
   "language": "python",
   "name": "python3"
  },
  "language_info": {
   "codemirror_mode": {
    "name": "ipython",
    "version": 3
   },
   "file_extension": ".py",
   "mimetype": "text/x-python",
   "name": "python",
   "nbconvert_exporter": "python",
   "pygments_lexer": "ipython3",
   "version": "3.11.9"
  }
 },
 "nbformat": 4,
 "nbformat_minor": 2
}
