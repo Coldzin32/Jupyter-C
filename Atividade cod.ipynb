{
 "cells": [
  {
   "cell_type": "code",
   "execution_count": null,
   "metadata": {},
   "outputs": [],
   "source": [
    "#faça um programa que verifique se uma letra digitada é vogal ou consoante \n",
    "\n",
    "letra = input(\"digite uma letra: \")\n",
    "\n",
    "vogais = 'AEIOU'\n",
    "\n",
    "if letra in vogais or letra in vogais.upper():\n",
    "    print(\"é uma vogal\")\n",
    "else:\n",
    "    print(\"é uma consoante\")"
   ]
  },
  {
   "cell_type": "code",
   "execution_count": null,
   "metadata": {},
   "outputs": [],
   "source": [
    "#faça um programa que pergunte o preço de três produtos e informe qual produto voçê deve comprar, sabendo que a decisão é sempre pelo mais barato\n",
    "\n",
    "preco1 = float(input(\"Digite o preço do primeiro produto: \"))\n",
    "preco2 = float(input(\"Digite o preço do segundo produto: \"))\n",
    "preco3 = float(input(\"Digite o preço do terceiro produto: \"))\n",
    "\n",
    "if preco1 < preco2:\n",
    "    if preco1 < preco3:\n",
    "        print(\"compre o primeiro produto.\")\n",
    "    else:\n",
    "        print(\"compre o terceiro produto.\")\n",
    "else:\n",
    "    if preco2 < preco3:\n",
    "        print(\"compre o segundo produto.\")\n",
    "    else:\n",
    "        print(\"compre o segundo terceiro produto.\")"
   ]
  },
  {
   "cell_type": "code",
   "execution_count": null,
   "metadata": {},
   "outputs": [],
   "source": [
    "#faça um programa que leia tres numeros e mostre os em ordem decrescente\n",
    "\n",
    "número1 = float(input(\"digite o primeiro número:\"))\n",
    "número2 = float(input(\"digite o segundo número:\"))\n",
    "número3 = float(input(\"digite o terceiro número:\"))\n",
    "numeros = [número1, número2, número3]\n",
    "numeros.sort(reverse=True)\n",
    "print(\"numeros em ordem decrescente:\",numeros)"
   ]
  },
  {
   "cell_type": "code",
   "execution_count": null,
   "metadata": {},
   "outputs": [],
   "source": [
    "#faca um programa que pergunte em que turno você estuda. \n",
    "#peca para digitar M-matutino ou V-vespertino ou N-noturno. imprima a mensagem \"Bom Dia!\",\"Boa Tarde!\"ou \"Boa Noite!\" ou \"Valor invalido\", conforme o caso \n",
    "\n",
    "turno = input(\"Em qual turno você estuda? Digite m para matutino, v para vespetino ou n para noturno:\")\n",
    "if turno == \"m\":\n",
    "  print(\"Bom dia!\")\n",
    "\n",
    "elif turno == \"v\":\n",
    "    print(\"Boa tarde!\")\n",
    "\n",
    "elif turno == \"n\":\n",
    "   print(\"Boa noite!\")\n",
    "else:\n",
    "   print(\"so pode m,v ou n \")"
   ]
  },
  {
   "cell_type": "code",
   "execution_count": null,
   "metadata": {},
   "outputs": [],
   "source": [
    "#faca um programa que leia um numero e exiba o dia correspondente da semana.(1-Domingo,2-segunda.etc). \n",
    "#se for digitado outro valor deve retornar uma mensagem informando valor invalido\n",
    "\n",
    "dias_da_semana ={\n",
    "    1:\"segunda-feira\",\n",
    "    2:\"terca-feira\",\n",
    "    3:\"quarta-feira\",\n",
    "    4:\"quinta-feira\",\n",
    "    5:\"sexta-feira\",\n",
    "\n",
    "}\n",
    "num = int(input(\"digite um numero de 1 a 5 para saber o dia da semana :\"))\n",
    "\n",
    "if num in dias_da_semana:\n",
    "    print(dias_da_semana[num])\n",
    "else:\n",
    "    print('numero invalido tente novamente')"
   ]
  },
  {
   "cell_type": "code",
   "execution_count": null,
   "metadata": {},
   "outputs": [],
   "source": [
    "#faça um programa que lê as duas notas parciais obtidas por um aluno numa disciplina ao longo de um semestre, \n",
    "#e calcule a sua média a atribuição de conceitos obedece ás regras \n",
    "\n",
    "nota1 = float(input(\"digite a primeira nota\"))\n",
    "nota2 = float(input(\"digite a segunda nota\"))\n",
    "media = (nota1 + nota2) / 2\n",
    "\n",
    "if 9.0 <= media <10.0:\n",
    "    conceito = 'a'\n",
    "elif 7.5 <= media <9.0:\n",
    "    conceito = 'b'\n",
    "elif 6.0 <= media < 7.5:\n",
    "    conceito = 'c'\n",
    "elif 4.0 <= media < 6.0:\n",
    "    conceito = 'd'\n",
    "elif 0<= media < 4.0:\n",
    "    conceito = 'e'\n",
    "else:\n",
    "    conceito = 'conceito inválido'\n",
    "if  conceito in ['a', 'b', 'c']:\n",
    "    situacao = 'aprovado, parabens!'\n",
    "else:\n",
    "    situacao = 'reprovado, sinto muito'\n",
    "    print ('media: ', media, 'e seu conceito foi de:' ,conceito,'e voce foi', situacao)"
   ]
  },
  {
   "cell_type": "code",
   "execution_count": null,
   "metadata": {},
   "outputs": [],
   "source": [
    "#faça um programa que peça um número correspondente a um determinado ano e em seguida informe se este ano é ou não bissexto.\n",
    "\n",
    "ano = int(input('Digite um ano: '))\n",
    "if (ano %4 == 0 and ano %100 != 0) or (ano % 400 == 0):\n",
    "    print(f'O ano{ano} é bissexto..')\n",
    "else:\n",
    "    print(f\"o ano{ano} não é bissexto..\")"
   ]
  },
  {
   "cell_type": "code",
   "execution_count": null,
   "metadata": {},
   "outputs": [],
   "source": [
    "## faça um programa que leia 2 números e em seguida pergunte ao usuário qual operação básica(soma, subtração,multplicação,divisão,exponenciação)\n",
    "\n",
    "#pergunte ao usuarios os dois numeros\n",
    "num1 = float(input(\"Digite o primeiro número: \"))\n",
    "num2 = float(input(\"Digite o segundo número: \"))\n",
    "operacao = input(\"Qual operação você deseja realizar? (+,-, * , /, **): \")\n",
    "#crie variaveis utilizando if, else e elif para cada operação \n",
    "if operacao == '+':\n",
    "    resultado = num1 + num2\n",
    "elif operacao == '-':\n",
    "    resultado = num1 - num2\n",
    "elif operacao == '*':\n",
    "    resultado = num1 * num2\n",
    "elif operacao == '/':\n",
    "    resultado = num1 / num2\n",
    "elif operacao == '**':\n",
    "    resultado = num1 ** num2\n",
    "else:\n",
    "    print(\"Operação inválida.\")\n",
    "    resultado = None\n",
    "if resultado is not None:\n",
    "    if resultado % 2 == 0:\n",
    "        resul1 = \"par\"\n",
    "    else:\n",
    "        resul1 = \"ímpar\"\n",
    "\n",
    "    if resultado >= 0:\n",
    "        resul2 = \"positivo\"\n",
    "    else:\n",
    "        resul2 = \"negativo\"\n",
    "    if resultado == int(resultado):\n",
    "        resul3 = \"inteiro\"\n",
    "    else:\n",
    "        resul3 = \"decimal\"\n",
    "    print(f\"O resultado foi {resultado}, que é {resul1}, {resul2}, e , {resul3}.\")"
   ]
  },
  {
   "cell_type": "code",
   "execution_count": null,
   "metadata": {},
   "outputs": [],
   "source": [
    "#faça um programa que peça a idade e exiba a informação. os valores aceitaveis (...)\n",
    "\n",
    "#pergunte ao usuario a idade dele\n",
    "idade = int(input(\"digite sua idade:\"))\n",
    "#criando as variaveis \n",
    "if 0<= idade <= 150:\n",
    "    print(f'sua idade e de {idade}')\n",
    "else:\n",
    "    print('idade inválida tente novamente!')"
   ]
  },
  {
   "cell_type": "code",
   "execution_count": null,
   "metadata": {},
   "outputs": [],
   "source": [
    "#ultilizando estruturas de repetição e listas(com ou sem )(...)\n",
    "for t in range(5):\n",
    "    numero = float(input(f'digite o {t +1}º numero:'))\n",
    "    num.append(numero)\n",
    "    soma = 0\n",
    "    for numero in num:\n",
    "        soma += numero\n",
    "        media = soma / len(num)\n",
    "        \n",
    "print(f'a soma dos numeros de: {soma}')\n",
    "print(f'a media dos numeros deu: {media}')"
   ]
  },
  {
   "cell_type": "code",
   "execution_count": null,
   "metadata": {},
   "outputs": [],
   "source": [
    "#faça um programa que peça um numero inteiro(...)\n",
    "\n",
    "#pergunte ao usuario o numero a ser analisado \n",
    "sugestao = int(input('coloque um numero inteiro: '))\n",
    "#criando as variaveis utilizando if e else\n",
    "if sugestao >1:\n",
    "    for p in range(2, int(sugestao**0.5)+1):\n",
    "        if sugestao % p ==0:\n",
    "            print(f'{sugestao} não é primo .')\n",
    "            \n",
    "        else:\n",
    "          print(f'{sugestao} não é um  primo .')\n",
    "else:\n",
    "    print(f\"{sugestao} não é um  primo.\")"
   ]
  },
  {
   "cell_type": "code",
   "execution_count": null,
   "metadata": {},
   "outputs": [],
   "source": [
    "#o departamento estadual de meteorologia...\n",
    "\n",
    "temp = []\n",
    "#pergunte ao usuario a temperatuda\n",
    "for p in range(5):\n",
    "    temps = float(input(f'digite a temperatura {p+1}: '))\n",
    "    temp.append(temps)\n",
    "#crie as variaves para indicar a temp maior, menor e media \n",
    "menor_temp = min(temp)\n",
    "maior_temp = max(temp)\n",
    "media_temps = sum(temp) / len(temp)\n",
    "\n",
    "print(f' temperatura menor :  {menor_temp}')\n",
    "print(f' temperatura maior : {maior_temp}')\n",
    "print(f' temperatura media : {media_temps}')"
   ]
  },
  {
   "cell_type": "code",
   "execution_count": null,
   "metadata": {},
   "outputs": [],
   "source": [
    "# um banco concederá um crédito especial aos seus clientes (...)\n",
    "\n",
    "saldo_medio = float(input(\"Digite o saldo médio do cliente: \"))\n",
    "\n",
    "if saldo_medio <= 200:\n",
    "    print(f\"Saldo médio: {saldo_medio:.2f}\")\n",
    "    print(\"Nenhum crédito disponível.\")\n",
    "elif saldo_medio <= 400:\n",
    "    credito = saldo_medio * 0.2\n",
    "    print(f\"Saldo médio: {saldo_medio:.2f}\")\n",
    "    print(f\"o crédito especial é de {credito:.2f}.\")\n",
    "elif saldo_medio <= 600:\n",
    "    credito = saldo_medio * 0.3\n",
    "    print(f\"Saldo médio: {saldo_medio:.2f}\")\n",
    "    print(f\"o crédito especial é de {credito:.2f}.\")\n",
    "else:\n",
    "    credito = saldo_medio * 0.4\n",
    "    print(f\"Saldo médio: {saldo_medio:.2f}\")\n",
    "    print(f\"o crédito especial é de {credito:.2f}.\")"
   ]
  },
  {
   "cell_type": "code",
   "execution_count": null,
   "metadata": {},
   "outputs": [],
   "source": [
    "#você contratou para fazer um serviço para o inss(...)\n",
    "\n",
    "#criando as variaveis nome e idade \n",
    "nome = input('coloque o seu nome: ')\n",
    "idade = int(input(f'{nome} quantos anos voce tem?? '))\n",
    "\n",
    "#determine o ano base e a idade maxima de aposentadoria \n",
    "ano = 2024\n",
    "idade_maxima = 65\n",
    "ano_aposentadoria = ano + (idade_maxima - idade)\n",
    "\n",
    "print(f'{nome} voce so podera se aposentar apartir de: {ano_aposentadoria}..')\n",
    "\n"
   ]
  }
 ],
 "metadata": {
  "kernelspec": {
   "display_name": "Python 3",
   "language": "python",
   "name": "python3"
  },
  "language_info": {
   "codemirror_mode": {
    "name": "ipython",
    "version": 3
   },
   "file_extension": ".py",
   "mimetype": "text/x-python",
   "name": "python",
   "nbconvert_exporter": "python",
   "pygments_lexer": "ipython3",
   "version": "3.11.9"
  }
 },
 "nbformat": 4,
 "nbformat_minor": 2
}
