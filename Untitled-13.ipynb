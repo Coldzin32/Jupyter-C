{
 "cells": [
  {
   "cell_type": "code",
   "execution_count": 6,
   "metadata": {},
   "outputs": [
    {
     "name": "stdout",
     "output_type": "stream",
     "text": [
      "Nome: Marlene \n",
      "Peso: 7.9\n",
      "Au, au!\n",
      "Nome: Cibele \n",
      "Peso: 4.5\n",
      "Miau!\n"
     ]
    }
   ],
   "source": [
    "#Instanciando um objeto cachorro \n",
    "\n",
    "caozinho = Animal(\"Marlene\", 7.9, \"caramelo\")\n",
    "gato= Animal (\"Cibele\", 4.5, \"Cinza\")\n",
    "\n",
    "#Chamando o metodo do objeto criado\n",
    "print(caozinho.imprimirDados())\n",
    "caozinho.latir(\"Au, au!\")\n",
    "\n",
    "print(gato.imprimirDados())\n",
    "gato.latir(\"Miau!\")"
   ]
  },
  {
   "cell_type": "code",
   "execution_count": 14,
   "metadata": {},
   "outputs": [],
   "source": [
    "#Criando uma classe\n",
    "\n",
    "class Animal():\n",
    "    #Construtor da classe\n",
    "    def __init__ (self, name, weight, color):\n",
    "    #atributos\n",
    "     self.nome = name\n",
    "     self.peso = weight\n",
    "     self.corDoPelo= color\n",
    "\n",
    "    def imprimirDados(self):\n",
    "     return(\"Nome: %s \\nPeso: %s\" %(self.nome, self.peso))\n",
    "\n",
    "    def latir (self, barulho):\n",
    "        print(barulho)"
   ]
  },
  {
   "cell_type": "code",
   "execution_count": 13,
   "metadata": {},
   "outputs": [],
   "source": [
    "#Criando uma classe chamada livro\n",
    "class Livro():\n",
    " def __init__ (self, titulo, isbn):\n",
    "  self.titulo= titulo\n",
    "  self.isbn= isbn\n",
    "  print(\"Construtor chamado para criar um objeto desta classe\")\n",
    "\n",
    "def imprime(self, titulo, isbn):\n",
    "  print(\"FOi criado o livro%s e ISBN %d\" % (titulo,isbn))\n"
   ]
  },
  {
   "cell_type": "code",
   "execution_count": 12,
   "metadata": {},
   "outputs": [],
   "source": [
    "#Criando uma classe chamada livro\n",
    "class Livro():\n",
    " def __init__ (self):\n",
    "  self.titulo=\"O Monge e o Executivo\"\n",
    "  self.isbn=9988888\n",
    "  print(\"Construtor chamado para criar um objeto desta classe\")\n",
    "\n",
    "def imprime(self):\n",
    "  print(\"FOi criado o livro%s e ISBN %d\" % (self.titulo, self.isbn))"
   ]
  },
  {
   "cell_type": "code",
   "execution_count": 15,
   "metadata": {},
   "outputs": [],
   "source": [
    "class Pessoa():\n",
    " def __init__(self, name, age):\n",
    "  self.nome= name \n",
    "  self.idade= age\n",
    "\n",
    " def nascimento(self, idade): \n",
    "     return(2022-self.idade)\n",
    "     "
   ]
  },
  {
   "cell_type": "code",
   "execution_count": null,
   "metadata": {},
   "outputs": [],
   "source": [
    "pessoa1= Pessoa(\"Maria\", 35)\n",
    "pessoa1.nome\n",
    "pessoa1.idade\n",
    "pessoa1.nascimento(35)"
   ]
  },
  {
   "cell_type": "code",
   "execution_count": 1,
   "metadata": {},
   "outputs": [],
   "source": [
    "ListaDePessoas=[]\n",
    "for i in range(5):\n",
    "    nome= str(input(\"Nome: \"))\n",
    "    idade= int(input(\"Idade: \"))\n",
    "    pessoa= Pessoa(nome, idade)\n",
    "    \n",
    "for objeto in range(len(ListaDePessoas)):\n",
    "    print(\"Nome: %s, idade: %d\" %(ListaDePessoas[objeto].nome, \n",
    "                                  ListaDePessoas[objeto].ideade))"
   ]
  }
 ],
 "metadata": {
  "kernelspec": {
   "display_name": "Python 3",
   "language": "python",
   "name": "python3"
  },
  "language_info": {
   "codemirror_mode": {
    "name": "ipython",
    "version": 3
   },
   "file_extension": ".py",
   "mimetype": "text/x-python",
   "name": "python",
   "nbconvert_exporter": "python",
   "pygments_lexer": "ipython3",
   "version": "3.11.2"
  }
 },
 "nbformat": 4,
 "nbformat_minor": 2
}
