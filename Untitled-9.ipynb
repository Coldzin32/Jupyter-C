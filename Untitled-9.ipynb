{
 "cells": [
  {
   "cell_type": "code",
   "execution_count": null,
   "metadata": {},
   "outputs": [],
   "source": [
    "for produto in range (0, 4):\n",
    "    p= str(input(\"Digite o nome do produto:\"))\n",
    "    v=float(input(\"Digite o valor do produto:\"))\n",
    "\n",
    "#Estrutura de Repetição \n",
    "# for:\n",
    "#   print()"
   ]
  },
  {
   "cell_type": "code",
   "execution_count": null,
   "metadata": {},
   "outputs": [],
   "source": [
    "for elemento in [1,2,3,4,5,6]:\n",
    "    print (\"Estamos no elemento\", elemento)"
   ]
  },
  {
   "cell_type": "code",
   "execution_count": null,
   "metadata": {},
   "outputs": [],
   "source": [
    "for elemento in \"string\":\n",
    "    print(\"Estamos no elemento\", elemento)\n",
    "\n",
    "\n"
   ]
  },
  {
   "cell_type": "code",
   "execution_count": null,
   "metadata": {},
   "outputs": [],
   "source": [
    "for elemento in range(len(\"string\")):\n",
    "    print(\"estamos no elemento\", elemento)"
   ]
  },
  {
   "cell_type": "code",
   "execution_count": null,
   "metadata": {},
   "outputs": [],
   "source": [
    "produto= 0\n",
    "while produto < 4:\n",
    "    p = str(input(\"Digite o nome do produto: \"))\n",
    "    v = float(input(\"Digite o valor do produto: \"))\n",
    "    produto +=1\n",
    "\n"
   ]
  },
  {
   "cell_type": "code",
   "execution_count": null,
   "metadata": {},
   "outputs": [],
   "source": [
    "elemento= 0\n",
    "while elemento <= len ([1,2,3,4,5,6,]):\n",
    "    print(\"Estamos no elemento\", elemento)\n",
    "    elemento +=1"
   ]
  },
  {
   "cell_type": "code",
   "execution_count": null,
   "metadata": {},
   "outputs": [],
   "source": [
    "s= \"STRING\"\n",
    "indice= 0\n",
    "\n",
    "while indice in range (len (s)):\n",
    "    print (\"Estamos no elemento\", s[indice])\n",
    "    indice +=1"
   ]
  },
  {
   "cell_type": "code",
   "execution_count": null,
   "metadata": {},
   "outputs": [],
   "source": [
    "palavra=\"tranquilo\"\n",
    "for indice, letra in enumerate(palavra):\n",
    "    print (indice, letra)\n"
   ]
  },
  {
   "cell_type": "code",
   "execution_count": null,
   "metadata": {},
   "outputs": [],
   "source": [
    "s= \"viva o python\"\n",
    "for ch in s [3:8]:\n",
    "    print(\"oi\")\n",
    " "
   ]
  },
  {
   "cell_type": "code",
   "execution_count": null,
   "metadata": {},
   "outputs": [],
   "source": [
    "impar= 0\n",
    "par= 0\n",
    "for produto in range (10):\n",
    "  numero_inteiro= int(input (\"Escreva 10 numeros inteiro: \"))\n",
    "  if numero_inteiro%2==0:\n",
    "   par +=1\n",
    "  else:\n",
    "   impar +=1\n",
    "  print(\"Quantidade de numeros pares: \", par)\n",
    "  print(\"Quantidade de numeros impares: \", impar)"
   ]
  }
 ],
 "metadata": {
  "kernelspec": {
   "display_name": "Python 3",
   "language": "python",
   "name": "python3"
  },
  "language_info": {
   "codemirror_mode": {
    "name": "ipython",
    "version": 3
   },
   "file_extension": ".py",
   "mimetype": "text/x-python",
   "name": "python",
   "nbconvert_exporter": "python",
   "pygments_lexer": "ipython3",
   "version": "3.10.8"
  }
 },
 "nbformat": 4,
 "nbformat_minor": 2
}
