{
 "cells": [
  {
   "cell_type": "code",
   "execution_count": 48,
   "metadata": {},
   "outputs": [
    {
     "name": "stdout",
     "output_type": "stream",
     "text": [
      "True\n",
      "False\n",
      "False\n",
      "True\n",
      "True\n"
     ]
    }
   ],
   "source": [
    "valor1= input(\"digite um numero inteiro\")\n",
    "valor2= input(\"digite outro numero inteiro\")\n",
    "\n",
    "print (valor1==valor2)\n",
    "print (valor1>valor2)\n",
    "print (valor1<valor2)\n",
    "print (valor1>=valor2)\n",
    "print (valor1<=valor2)\n",
    "\n"
   ]
  },
  {
   "cell_type": "code",
   "execution_count": 49,
   "metadata": {},
   "outputs": [
    {
     "name": "stdout",
     "output_type": "stream",
     "text": [
      "True\n"
     ]
    }
   ],
   "source": [
    "numero= 10\n",
    "print(numero>0 or numero<10)"
   ]
  },
  {
   "cell_type": "code",
   "execution_count": 53,
   "metadata": {},
   "outputs": [
    {
     "name": "stdout",
     "output_type": "stream",
     "text": [
      "impar\n"
     ]
    }
   ],
   "source": [
    "num = float (input(\"Digite um numero inteiro\"))\n",
    "if num %2== 0: print (\"par\") \n",
    "else: print (\"impar\")\n"
   ]
  },
  {
   "cell_type": "code",
   "execution_count": 17,
   "metadata": {},
   "outputs": [
    {
     "name": "stdout",
     "output_type": "stream",
     "text": [
      "você ganhou 5% de desconto\n"
     ]
    }
   ],
   "source": [
    "cupom= input (\"digite o cupom:\")\n",
    "if(cupom== \"aula1\" or cupom==\"aula2\"):\n",
    "    print(\"você ganhou 10% de desconto\")\n",
    "else:\n",
    "    print(\"você ganhou 5% de desconto\")\n",
    "    "
   ]
  },
  {
   "cell_type": "code",
   "execution_count": null,
   "metadata": {},
   "outputs": [],
   "source": []
  }
 ],
 "metadata": {
  "kernelspec": {
   "display_name": "Python 3",
   "language": "python",
   "name": "python3"
  },
  "language_info": {
   "codemirror_mode": {
    "name": "ipython",
    "version": 3
   },
   "file_extension": ".py",
   "mimetype": "text/x-python",
   "name": "python",
   "nbconvert_exporter": "python",
   "pygments_lexer": "ipython3",
   "version": "3.10.11"
  }
 },
 "nbformat": 4,
 "nbformat_minor": 2
}
