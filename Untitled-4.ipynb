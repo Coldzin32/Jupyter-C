{
 "cells": [
  {
   "cell_type": "code",
   "execution_count": null,
   "metadata": {},
   "outputs": [],
   "source": [
    "valor_int= int(input(\"digite um número:\"))"
   ]
  },
  {
   "cell_type": "code",
   "execution_count": 4,
   "metadata": {},
   "outputs": [
    {
     "name": "stdout",
     "output_type": "stream",
     "text": [
      "a soma dos valores digitados é: 235\n"
     ]
    }
   ],
   "source": [
    "valor1= int(input(\"digite um número:\"))\n",
    "valor2= int(input(\"digite um número:\"))\n",
    "soma= valor1+valor2\n",
    "print(\"a soma dos valores digitados é:\", soma)"
   ]
  },
  {
   "cell_type": "code",
   "execution_count": 10,
   "metadata": {},
   "outputs": [
    {
     "name": "stdout",
     "output_type": "stream",
     "text": [
      "A média é igual a 6.333333333333333\n"
     ]
    }
   ],
   "source": [
    "nota1=float(input(\"digite a primeira nota:\"))\n",
    "nota2=float(input(\"digite a segunda nota:\"))\n",
    "nota3=float(input(\"digite a terceira nota:\"))\n",
    "soma= nota1+nota2+nota3\n",
    "media = soma/3\n",
    "print(\"A média é igual a\", media)"
   ]
  },
  {
   "cell_type": "code",
   "execution_count": 18,
   "metadata": {},
   "outputs": [
    {
     "name": "stdout",
     "output_type": "stream",
     "text": [
      "salario por hora: 12 * horas por mês: 160 = 1920\n"
     ]
    }
   ],
   "source": [
    "salHora= float(input(\"digite quanto ganha por hora:\"))\n",
    "horaMes= float(input(\"digite horas trabalhadas ao mês:\"))\n",
    "salario= horaMes*salHora\n",
    "\n",
    "print(\"salario por hora:\", salHora, \"*\", \"horas por mês:\", horaMes, \"=\", salario)\n"
   ]
  },
  {
   "cell_type": "code",
   "execution_count": 24,
   "metadata": {},
   "outputs": [
    {
     "name": "stdout",
     "output_type": "stream",
     "text": [
      "Excesso de peso: 1.0 kg\n",
      "Valor da multa= R$ 4.0\n"
     ]
    }
   ],
   "source": [
    "#Perguntar quantos quilos de peixe foram trazidos \n",
    "quiloPeixes= float(input(\"Digite quantos quilos de peixe:\"))\n",
    "#Limitar o peso do peixe\n",
    "limitePeso= 50\n",
    "#Estruturar quanto será pago caso aceda o peso limite\n",
    "excesso= quiloPeixes-limitePeso\n",
    "if excesso>0:\n",
    "    multa= excesso*4\n",
    "    print(\"Excesso de peso:\",excesso,\"kg\")\n",
    "    print(\"Valor da multa= R$\", multa)\n",
    "else:\n",
    "   print(\"Peso dentro do limite: Não há multa.\")"
   ]
  }
 ],
 "metadata": {
  "kernelspec": {
   "display_name": "Python 3",
   "language": "python",
   "name": "python3"
  },
  "language_info": {
   "codemirror_mode": {
    "name": "ipython",
    "version": 3
   },
   "file_extension": ".py",
   "mimetype": "text/x-python",
   "name": "python",
   "nbconvert_exporter": "python",
   "pygments_lexer": "ipython3",
   "version": "3.10.11"
  }
 },
 "nbformat": 4,
 "nbformat_minor": 2
}
