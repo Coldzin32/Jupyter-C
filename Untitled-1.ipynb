{
 "cells": [
  {
   "cell_type": "code",
   "execution_count": 50,
   "metadata": {},
   "outputs": [
    {
     "name": "stdout",
     "output_type": "stream",
     "text": [
      "Walison 17 criança\n",
      "Mateus 27 adulto\n",
      "hi mateus\n"
     ]
    }
   ],
   "source": [
    "nome= \"Mateus\"\n",
    "nome2= \"Walison\"\n",
    "\n",
    "idade= 27\n",
    "idade2= 17\n",
    "\n",
    "if idade2 >=18: print (nome2,idade2, \"adulto\")\n",
    "if idade2 <=18: print (nome2,idade2, \"criança\")\n",
    "if idade  >=18: print(nome,idade,\"adulto\")\n",
    "if idade <18: print (nome,idade,\"criança\")\n",
    "if nome ==\"Mateus\": print (\"hi mateus\")\n",
    "\n"
   ]
  },
  {
   "cell_type": "code",
   "execution_count": 51,
   "metadata": {},
   "outputs": [
    {
     "name": "stdout",
     "output_type": "stream",
     "text": [
      "mateus 20 1.7\n"
     ]
    }
   ],
   "source": [
    "\n",
    "pessoa= \"mateus\"\n",
    "idade= 20\n",
    "altura= 1.70\n",
    "dev= True \n",
    "\n",
    "if dev== True: print (pessoa, idade, altura)\n",
    "                    "
   ]
  }
 ],
 "metadata": {
  "kernelspec": {
   "display_name": "Python 3",
   "language": "python",
   "name": "python3"
  },
  "language_info": {
   "codemirror_mode": {
    "name": "ipython",
    "version": 3
   },
   "file_extension": ".py",
   "mimetype": "text/x-python",
   "name": "python",
   "nbconvert_exporter": "python",
   "pygments_lexer": "ipython3",
   "version": "3.12.1"
  }
 },
 "nbformat": 4,
 "nbformat_minor": 2
}
