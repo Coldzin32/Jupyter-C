{
 "cells": [
  {
   "cell_type": "code",
   "execution_count": 7,
   "metadata": {},
   "outputs": [],
   "source": [
    "idade1 = 20\n",
    "idade2 = 35\n",
    "somaIdades= idade1+idade2\n",
    "multpIdade= idade1*idade2\n",
    "subIdade= idade1-idade2\n",
    "divIdade= idade1/idade2\n",
    "calculo1= 2*idade1+3*idade2/4\n",
    "calculo2=(2*idade1+3*idade2)/4\n",
    "calculo3=(4**4)\n",
    "nome= \"Mateus\"\n",
    "sobrenome= \"Henrique\"\n",
    "idade1= 20\n"
   ]
  },
  {
   "cell_type": "code",
   "execution_count": 8,
   "metadata": {},
   "outputs": [],
   "source": [
    "#Parêntesis\n",
    "#Expoente\n",
    "#Multiplicação \n",
    "#Divisão\n",
    "#Adição\n",
    "#Subrtração"
   ]
  },
  {
   "cell_type": "code",
   "execution_count": 9,
   "metadata": {},
   "outputs": [
    {
     "name": "stdout",
     "output_type": "stream",
     "text": [
      "55 -15 700 0.5714285714285714\n",
      "66.25\n",
      "36.25\n",
      "256\n",
      "1\n",
      "15\n",
      "Mateus Henrique\n",
      "olá, Mateus \n",
      " você tem 35 anos\n"
     ]
    }
   ],
   "source": [
    "print (somaIdades,subIdade,multpIdade,divIdade)\n",
    "print (calculo1)\n",
    "print(calculo2)\n",
    "print(calculo3)\n",
    "print(idade2//idade1)\n",
    "print(idade2%idade1)\n",
    "print(nome+' '+sobrenome)\n",
    "print(\"olá,\", nome, '\\n','você tem', idade1+15,\"anos\")\n",
    "input(\"Digite sua idade\")\n",
    "idade= input(\"Digit sua idade\")\n",
    "idade= int(input(\"Digite sua idade\"))\n",
    "\n",
    "           \n"
   ]
  },
  {
   "cell_type": "code",
   "execution_count": 10,
   "metadata": {},
   "outputs": [
    {
     "data": {
      "text/plain": [
       "int"
      ]
     },
     "execution_count": 10,
     "metadata": {},
     "output_type": "execute_result"
    }
   ],
   "source": [
    "type(idade)"
   ]
  },
  {
   "cell_type": "code",
   "execution_count": 11,
   "metadata": {},
   "outputs": [
    {
     "name": "stdout",
     "output_type": "stream",
     "text": [
      "14 768\n"
     ]
    }
   ],
   "source": [
    "x=16-2*5//3+1\n",
    "y= 2**2**3*3\n",
    "print(x,y)"
   ]
  }
 ],
 "metadata": {
  "kernelspec": {
   "display_name": "venv",
   "language": "python",
   "name": "python3"
  },
  "language_info": {
   "codemirror_mode": {
    "name": "ipython",
    "version": 3
   },
   "file_extension": ".py",
   "mimetype": "text/x-python",
   "name": "python",
   "nbconvert_exporter": "python",
   "pygments_lexer": "ipython3",
   "version": "3.10.8"
  }
 },
 "nbformat": 4,
 "nbformat_minor": 2
}
