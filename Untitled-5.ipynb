{
 "cells": [
  {
   "cell_type": "code",
   "execution_count": 6,
   "metadata": {},
   "outputs": [
    {
     "name": "stdout",
     "output_type": "stream",
     "text": [
      "A taxa será de:  100.0\n"
     ]
    }
   ],
   "source": [
    "#Perguntar o ano e o valor do carro\n",
    "Ano= int(input(\"Qual ano do caror? \"))\n",
    "Valor= float(input(\"Qual o valor do seu carro? \"))\n",
    "#Criar o if/else para variaveis de anos entre antes e depois de 1990\n",
    "if Ano<1990:\n",
    "    print(\"A taxa será de: \", Valor*0.01)\n",
    "else:\n",
    "    print (\"A taxa do seu carro será de: \", Valor*0.015)\n",
    "\n",
    "    \n",
    "    "
   ]
  },
  {
   "cell_type": "code",
   "execution_count": 24,
   "metadata": {},
   "outputs": [
    {
     "name": "stdout",
     "output_type": "stream",
     "text": [
      "Seu salario é de: 2000.0 Aumento de salario:  200.0 Seu novo salario 2200.0\n"
     ]
    }
   ],
   "source": [
    "#Perguntar o codigo do funcionario e o salario \n",
    "Codigo= int(input(\"Qual o seu codigo?\"))\n",
    "Salario= float(input(\"Quanto você recebe?\"))\n",
    "#Criar as variaveis \n",
    "if (Codigo== 101):\n",
    "    print(\"Seu salario é de:\", Salario, \"Aumento de salario: \", Salario*0.1, \"Seu novo salario\", Salario+(Salario*0.1))\n",
    "elif (Codigo== 102):\n",
    "    print(\"Seu salario é de:\", Salario, \"Aumento de salario: \", Salario*0.1, \"Seu novo salario\", Salario+(Salario*0.2))\n",
    "elif (Codigo==103):\n",
    "    print(\"Seu salario é de:\", Salario, \"Aumento de salario: \", Salario*0.1, \"Seu novo salario\", Salario+(Salario*0.3)) \n",
    "else:\n",
    "   print(\"Seu salario é de:\", Salario, \"Aumento de salario: \", Salario*0.1, \"Seu novo salario\", Salario+(Salario*0.4))\n",
    "\n",
    "\n"
   ]
  }
 ],
 "metadata": {
  "kernelspec": {
   "display_name": "base",
   "language": "python",
   "name": "python3"
  },
  "language_info": {
   "codemirror_mode": {
    "name": "ipython",
    "version": 3
   },
   "file_extension": ".py",
   "mimetype": "text/x-python",
   "name": "python",
   "nbconvert_exporter": "python",
   "pygments_lexer": "ipython3",
   "version": "3.11.4"
  }
 },
 "nbformat": 4,
 "nbformat_minor": 2
}
